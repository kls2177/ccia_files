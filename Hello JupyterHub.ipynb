{
 "cells": [
  {
   "cell_type": "markdown",
   "id": "3dd5b070",
   "metadata": {},
   "source": [
    "# Welcome to JupyterHub\n",
    "\n",
    "To run this notebook, press `Shift + Enter` to run each cell individually, or play around with the other run options above."
   ]
  },
  {
   "cell_type": "code",
   "execution_count": 1,
   "id": "45c75a2f",
   "metadata": {},
   "outputs": [
    {
     "name": "stdout",
     "output_type": "stream",
     "text": [
      "Hello JupyterHub\n"
     ]
    }
   ],
   "source": [
    "# simple print command\n",
    "print(\"Hello JupyterHub\")"
   ]
  },
  {
   "cell_type": "code",
   "execution_count": 3,
   "id": "e7323f30",
   "metadata": {},
   "outputs": [],
   "source": [
    "# create a list\n",
    "l = ['Hello','JupyterHub']"
   ]
  },
  {
   "cell_type": "code",
   "execution_count": 6,
   "id": "98a38488",
   "metadata": {},
   "outputs": [
    {
     "name": "stdout",
     "output_type": "stream",
     "text": [
      "Hello\n",
      "JupyterHub\n"
     ]
    }
   ],
   "source": [
    "# loop over the list and print\n",
    "for i in l:\n",
    "    print(i)"
   ]
  },
  {
   "cell_type": "code",
   "execution_count": 7,
   "id": "046d4e45",
   "metadata": {},
   "outputs": [],
   "source": [
    "# import a package\n",
    "import numpy as np"
   ]
  },
  {
   "cell_type": "code",
   "execution_count": 14,
   "id": "a8733ecc",
   "metadata": {},
   "outputs": [
    {
     "name": "stdout",
     "output_type": "stream",
     "text": [
      "[ 0  1  2  3  4  5  6  7  8  9 10 11 12 13 14 15 16 17 18 19 20]\n"
     ]
    }
   ],
   "source": [
    "# create a numpy array\n",
    "test_array = np.arange(0,21)\n",
    "print(test_array)"
   ]
  },
  {
   "cell_type": "code",
   "execution_count": 15,
   "id": "521b2df3",
   "metadata": {},
   "outputs": [
    {
     "name": "stdout",
     "output_type": "stream",
     "text": [
      "10.0\n"
     ]
    }
   ],
   "source": [
    "# do some math\n",
    "test_avg = np.mean(test_array)\n",
    "print(test_avg)"
   ]
  },
  {
   "cell_type": "code",
   "execution_count": 16,
   "id": "668df099",
   "metadata": {},
   "outputs": [],
   "source": [
    "# import another package\n",
    "from matplotlib import pyplot as plt"
   ]
  },
  {
   "cell_type": "code",
   "execution_count": 17,
   "id": "f0850f81",
   "metadata": {},
   "outputs": [
    {
     "data": {
      "text/plain": [
       "[<matplotlib.lines.Line2D at 0x137fdd670>]"
      ]
     },
     "execution_count": 17,
     "metadata": {},
     "output_type": "execute_result"
    },
    {
     "data": {
      "image/png": "[encoded data removed]",
      "text/plain": [
       "<Figure size 432x288 with 1 Axes>"
      ]
     },
     "metadata": {
      "needs_background": "light"
     },
     "output_type": "display_data"
    }
   ],
   "source": [
    "# make a plot\n",
    "plt.plot(test_array)"
   ]
  },
  {
   "cell_type": "markdown",
   "id": "80894efd",
   "metadata": {},
   "source": [
    "### Nice! \n",
    "\n",
    "Now, try inserting a cell, moving cells around, downloading your notebook as a .ipynb file, etc. "
   ]
  },
  {
   "cell_type": "code",
   "execution_count": null,
   "id": "cea84df1",
   "metadata": {},
   "outputs": [],
   "source": []
  }
 ],
 "metadata": {
  "kernelspec": {
   "display_name": "Python 3 (ipykernel)",
   "language": "python",
   "name": "python3"
  },
  "language_info": {
   "codemirror_mode": {
    "name": "ipython",
    "version": 3
   },
   "file_extension": ".py",
   "mimetype": "text/x-python",
   "name": "python",
   "nbconvert_exporter": "python",
   "pygments_lexer": "ipython3",
   "version": "3.9.6"
  }
 },
 "nbformat": 4,
 "nbformat_minor": 5
}
