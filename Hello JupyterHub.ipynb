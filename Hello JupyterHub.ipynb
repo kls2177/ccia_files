{
 "cells": [
  {
   "cell_type": "markdown",
   "id": "3dd5b070",
   "metadata": {},
   "source": [
    "# Welcome to JupyterHub\n",
    "\n",
    "To run this notebook, uncomment the cells below and press `Shift + Enter` to run each cell individually, or play around with the other run options above."
   ]
  },
  {
   "cell_type": "code",
   "execution_count": 18,
   "id": "45c75a2f",
   "metadata": {},
   "outputs": [],
   "source": [
    "# simple print command\n",
    "\n",
    "#print(\"Hello JupyterHub\")"
   ]
  },
  {
   "cell_type": "code",
   "execution_count": 19,
   "id": "e7323f30",
   "metadata": {},
   "outputs": [],
   "source": [
    "# create a list\n",
    "\n",
    "#l = ['Hello','JupyterHub']"
   ]
  },
  {
   "cell_type": "code",
   "execution_count": 20,
   "id": "98a38488",
   "metadata": {},
   "outputs": [],
   "source": [
    "# loop over the list and print\n",
    "\n",
    "#for i in l:\n",
    "#    print(i)"
   ]
  },
  {
   "cell_type": "code",
   "execution_count": 21,
   "id": "046d4e45",
   "metadata": {},
   "outputs": [],
   "source": [
    "# import a package\n",
    "\n",
    "import numpy as np"
   ]
  },
  {
   "cell_type": "code",
   "execution_count": 22,
   "id": "a8733ecc",
   "metadata": {},
   "outputs": [],
   "source": [
    "# create a numpy array\n",
    "\n",
    "#test_array = np.arange(0,21)\n",
    "#print(test_array)"
   ]
  },
  {
   "cell_type": "code",
   "execution_count": 23,
   "id": "521b2df3",
   "metadata": {},
   "outputs": [],
   "source": [
    "# do some math\n",
    "\n",
    "#test_avg = np.mean(test_array)\n",
    "#print(test_avg)"
   ]
  },
  {
   "cell_type": "code",
   "execution_count": 16,
   "id": "668df099",
   "metadata": {},
   "outputs": [],
   "source": [
    "# import another package\n",
    "from matplotlib import pyplot as plt"
   ]
  },
  {
   "cell_type": "code",
   "execution_count": 24,
   "id": "f0850f81",
   "metadata": {},
   "outputs": [],
   "source": [
    "# make a plot\n",
    "\n",
    "#plt.plot(test_array)"
   ]
  },
  {
   "cell_type": "markdown",
   "id": "80894efd",
   "metadata": {},
   "source": [
    "### Nice! \n",
    "\n",
    "Now, try inserting a cell, moving cells around, downloading your notebook as a .ipynb file, etc. "
   ]
  },
  {
   "cell_type": "code",
   "execution_count": null,
   "id": "cea84df1",
   "metadata": {},
   "outputs": [],
   "source": []
  }
 ],
 "metadata": {
  "kernelspec": {
   "display_name": "Python 3 (ipykernel)",
   "language": "python",
   "name": "python3"
  },
  "language_info": {
   "codemirror_mode": {
    "name": "ipython",
    "version": 3
   },
   "file_extension": ".py",
   "mimetype": "text/x-python",
   "name": "python",
   "nbconvert_exporter": "python",
   "pygments_lexer": "ipython3",
   "version": "3.9.6"
  }
 },
 "nbformat": 4,
 "nbformat_minor": 5
}
