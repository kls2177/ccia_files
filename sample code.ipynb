{
 "cells": [
  {
   "cell_type": "code",
   "execution_count": 1,
   "id": "41691d2a",
   "metadata": {},
   "outputs": [],
   "source": [
    "# uncomment on jupyterhub\n",
    "#pip install netcdf4"
   ]
  },
  {
   "cell_type": "code",
   "execution_count": 2,
   "id": "443fc3a1",
   "metadata": {},
   "outputs": [],
   "source": [
    "# uncomment on jupyterhub\n",
    "#conda install -c conda-forge xarray"
   ]
  },
  {
   "cell_type": "code",
   "execution_count": 3,
   "id": "79bef4bb",
   "metadata": {},
   "outputs": [],
   "source": [
    "import netCDF4 as nc\n",
    "import xarray as xr"
   ]
  },
  {
   "cell_type": "code",
   "execution_count": 4,
   "id": "3cc9af5a",
   "metadata": {},
   "outputs": [],
   "source": [
    "# This will try to read the data over the internet.\n",
    "ncep_filename = 'air.mon.1981-2010.ltm.nc'\n",
    "#  to read over internet\n",
    "ncep_url = \"http://www.esrl.noaa.gov/psd/thredds/dodsC/Datasets/ncep.reanalysis.derived/pressure/\"\n",
    "\n",
    "#  Open handle to data\n",
    "ncep_air = xr.open_dataset( ncep_url + ncep_filename, decode_times=False )"
   ]
  },
  {
   "cell_type": "code",
   "execution_count": 5,
   "id": "d71a6313",
   "metadata": {},
   "outputs": [
    {
     "name": "stdout",
     "output_type": "stream",
     "text": [
      "<xarray.DataArray 'air' (time: 12, level: 17, lat: 73, lon: 144)>\n",
      "[2144448 values with dtype=float32]\n",
      "Coordinates:\n",
      "  * level    (level) float32 1e+03 925.0 850.0 700.0 ... 50.0 30.0 20.0 10.0\n",
      "  * lon      (lon) float32 0.0 2.5 5.0 7.5 10.0 ... 350.0 352.5 355.0 357.5\n",
      "  * time     (time) float64 -6.571e+05 -6.57e+05 ... -6.568e+05 -6.567e+05\n",
      "  * lat      (lat) float32 90.0 87.5 85.0 82.5 80.0 ... -82.5 -85.0 -87.5 -90.0\n",
      "Attributes:\n",
      "    long_name:     Monthly Long Term Mean of Air temperature\n",
      "    units:         degC\n",
      "    precision:     2\n",
      "    var_desc:      Air Temperature\n",
      "    level_desc:    Multiple levels\n",
      "    statistic:     Long Term Mean\n",
      "    parent_stat:   Mean\n",
      "    valid_range:   [-200.  300.]\n",
      "    actual_range:  [-89.722336  41.616005]\n",
      "    dataset:       NCEP Reanalysis Derived Products\n",
      "    _ChunkSizes:   [  1   1  73 144]\n"
     ]
    }
   ],
   "source": [
    "print(ncep_air.air)"
   ]
  },
  {
   "cell_type": "code",
   "execution_count": null,
   "id": "ccde3b0d",
   "metadata": {},
   "outputs": [],
   "source": []
  }
 ],
 "metadata": {
  "kernelspec": {
   "display_name": "Python 3 (ipykernel)",
   "language": "python",
   "name": "python3"
  },
  "language_info": {
   "codemirror_mode": {
    "name": "ipython",
    "version": 3
   },
   "file_extension": ".py",
   "mimetype": "text/x-python",
   "name": "python",
   "nbconvert_exporter": "python",
   "pygments_lexer": "ipython3",
   "version": "3.11.0"
  }
 },
 "nbformat": 4,
 "nbformat_minor": 5
}
